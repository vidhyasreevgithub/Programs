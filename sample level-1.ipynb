{
 "cells": [
  {
   "cell_type": "code",
   "execution_count": 1,
   "id": "78408e02",
   "metadata": {},
   "outputs": [
    {
     "name": "stdout",
     "output_type": "stream",
     "text": [
      "hello world\n"
     ]
    }
   ],
   "source": [
    "#1)Display “Hello World” in your output screen.\n",
    "print(\"hello world\")"
   ]
  },
  {
   "cell_type": "code",
   "execution_count": 1,
   "id": "674dbdaa",
   "metadata": {},
   "outputs": [
    {
     "name": "stdout",
     "output_type": "stream",
     "text": [
      "enter value of a:4\n",
      "enter value of b:8\n",
      "sum is: 12\n"
     ]
    }
   ],
   "source": [
    "#2)Get the input from the user and perform addition of two numbers\n",
    "a=int(input(\"enter value of a:\")) \n",
    "b=int(input(\"enter value of b:\"))\n",
    "c=a+b\n",
    "print(\"sum is:\",c)"
   ]
  },
  {
   "cell_type": "code",
   "execution_count": 1,
   "id": "9006ca22",
   "metadata": {},
   "outputs": [
    {
     "name": "stdout",
     "output_type": "stream",
     "text": [
      "before swaping value is 4 8\n",
      "after swaping value is 8 4\n"
     ]
    }
   ],
   "source": [
    "#3)swap two variables without temp variable\n",
    "a=4\n",
    "b=8\n",
    "print(\"before swaping value is\",a,b)\n",
    "a=a+b\n",
    "b=a-b\n",
    "a=a-b\n",
    "print(\"after swaping value is\",a,b)"
   ]
  },
  {
   "cell_type": "code",
   "execution_count": 41,
   "id": "987537e7",
   "metadata": {},
   "outputs": [
    {
     "name": "stdout",
     "output_type": "stream",
     "text": [
      "enter the kilometre:5\n",
      "5000\n"
     ]
    }
   ],
   "source": [
    "#4)convert the entered kilometres ( Convertion  Factor= 0.621371)\n",
    "km=int(input(\"enter the kilometre:\"))\n",
    "m=km*1000\n",
    "print(m)"
   ]
  },
  {
   "cell_type": "code",
   "execution_count": 44,
   "id": "7364c1c9",
   "metadata": {},
   "outputs": [
    {
     "name": "stdout",
     "output_type": "stream",
     "text": [
      "enter the number:4\n",
      "positive number\n"
     ]
    }
   ],
   "source": [
    "#5)check whether the given number is positive, negative or 0\n",
    "a=int(input(\"enter the number:\"))\n",
    "if(a>0):\n",
    "    print(\"positive number\")\n",
    "elif(a<0):\n",
    "    print(\"negative number\")\n",
    "else:\n",
    "        print(\"zero\")"
   ]
  },
  {
   "cell_type": "code",
   "execution_count": 5,
   "id": "5a681c69",
   "metadata": {},
   "outputs": [
    {
     "name": "stdout",
     "output_type": "stream",
     "text": [
      "enter the year:2008\n",
      "it is leap year\n"
     ]
    }
   ],
   "source": [
    "#6)verify that the given year is a leap year\n",
    "a=int(input(\"enter the year:\"))\n",
    "if(a%4==0):\n",
    "    print(\"it is leap year\")\n",
    "else:\n",
    "    print(\"not a leap year\")"
   ]
  },
  {
   "cell_type": "code",
   "execution_count": 43,
   "id": "a3733c4f",
   "metadata": {},
   "outputs": [
    {
     "name": "stdout",
     "output_type": "stream",
     "text": [
      "enter the min:1\n",
      "enter the max:10\n",
      "prime number between  1 to 10 max\n",
      "2\n",
      "3\n",
      "5\n",
      "7\n"
     ]
    }
   ],
   "source": [
    "#7)display the prime numbers within the given interval\n",
    "a=int(input(\"enter the min:\"))\n",
    "b=int(input(\"enter the max:\"))\n",
    "print(\"prime number between \",a,\"to\",b,\"max\" )\n",
    "for num in range(a,b+1):\n",
    " if num>1:\n",
    "        for i in range(2,num):\n",
    "            if(num%i==0):\n",
    "                break\n",
    "        else:\n",
    "            print(num)\n",
    "  "
   ]
  },
  {
   "cell_type": "code",
   "execution_count": 45,
   "id": "b6d44ed9",
   "metadata": {},
   "outputs": [
    {
     "name": "stdout",
     "output_type": "stream",
     "text": [
      "enter the number:8\n",
      "1\n",
      "2\n",
      "3\n",
      "5\n",
      "8\n",
      "13\n",
      "21\n",
      "34\n"
     ]
    }
   ],
   "source": [
    "#8) display the Fibonacci sequence up to n-th term\n",
    "n=int(input(\"enter the number:\"))\n",
    "a=0\n",
    "b=1\n",
    "c=a+b\n",
    "for i in range(1,n+1):\n",
    "    print(c)\n",
    "    a=b\n",
    "    b=c\n",
    "    c=a+b"
   ]
  },
  {
   "cell_type": "code",
   "execution_count": 51,
   "id": "bb71dc03",
   "metadata": {},
   "outputs": [
    {
     "name": "stdout",
     "output_type": "stream",
     "text": [
      "enter the values:153\n",
      "amstrong number\n"
     ]
    }
   ],
   "source": [
    "#9) check if the number is an Armstrong number or not\n",
    "num=int(input(\"enter the values:\"))\n",
    "sum=0 \n",
    "ori=num\n",
    "while(ori>0):\n",
    "    a=ori%10\n",
    "    sum+=a**3\n",
    "    ori//=10\n",
    "if(num==sum):\n",
    "    print(\"amstrong number\")\n",
    "else:\n",
    "    print(\"not an amstrong number\")\n",
    "    "
   ]
  },
  {
   "cell_type": "code",
   "execution_count": 50,
   "id": "24e0e9ff",
   "metadata": {
    "scrolled": true
   },
   "outputs": [
    {
     "name": "stdout",
     "output_type": "stream",
     "text": [
      "enter the number:5\n",
      "15\n"
     ]
    }
   ],
   "source": [
    "#10) Find the Sum of natural numbers up to n-th term\n",
    "a=int(input(\"enter the number:\"))\n",
    "sum=0\n",
    "for i in range(1,a+1):\n",
    " sum=sum+i\n",
    "print(sum)"
   ]
  },
  {
   "cell_type": "code",
   "execution_count": 48,
   "id": "97098123",
   "metadata": {},
   "outputs": [
    {
     "name": "stdout",
     "output_type": "stream",
     "text": [
      "Enter the number of rows5\n",
      "*\n",
      "**\n",
      "***\n",
      "****\n",
      "*****\n"
     ]
    }
   ],
   "source": [
    "#11)Write a function called show_stars(rows). If rows are 5, it should print the following\n",
    "n = int(input(\"Enter the number of rows\"))  \n",
    "for i in range(0, n):    \n",
    "        for j in range(0, i + 1):    \n",
    "            print(\"*\", end=\"\")  \n",
    "        print()  "
   ]
  },
  {
   "cell_type": "code",
   "execution_count": 5,
   "id": "6607b5ac",
   "metadata": {},
   "outputs": [
    {
     "name": "stdout",
     "output_type": "stream",
     "text": [
      "Initial String Python_Programming\n",
      "Resultant String Programming\n"
     ]
    }
   ],
   "source": [
    "#12)Write a program to remove characters from a string starting from zero up to n and return a new string.\n",
    "ini_string1 = 'Python_Programming'\n",
    "n = 7\n",
    "print(\"Initial String\", ini_string1)\n",
    " # Removing n characters from string using Naive method\n",
    "res = ''\n",
    "for i in range(0, len(ini_string1)):\n",
    "    if i >= n:\n",
    "        res = res + ini_string1[i]\n",
    "print(\"Resultant String\", res)"
   ]
  },
  {
   "cell_type": "code",
   "execution_count": 20,
   "id": "f5bbfa04",
   "metadata": {},
   "outputs": [
    {
     "name": "stdout",
     "output_type": "stream",
     "text": [
      "5\n",
      "20\n",
      "25\n",
      "10\n"
     ]
    }
   ],
   "source": [
    "#13)Iterate the given list of numbers and print only those numbers which are divisible by 5\n",
    "list1=[5,12,14,18,20,25,10]\n",
    "for i in list1:\n",
    "    if(i%5==0):\n",
    "        print(i)"
   ]
  },
  {
   "cell_type": "code",
   "execution_count": 21,
   "id": "7c092f9a",
   "metadata": {},
   "outputs": [
    {
     "name": "stdout",
     "output_type": "stream",
     "text": [
      "4\n"
     ]
    }
   ],
   "source": [
    "#14) Write a program to find how many times substring “Hi” appears in the given string.\n",
    "s = 'hihihhihi'\n",
    "sb = 'hi'\n",
    "results = 0\n",
    "sub_len = len(sb)\n",
    "for i in range(len(s)):\n",
    "    if s[i:i+sub_len] == sb:\n",
    "        results += 1\n",
    "print(results)"
   ]
  },
  {
   "cell_type": "code",
   "execution_count": 26,
   "id": "7b57131f",
   "metadata": {},
   "outputs": [
    {
     "name": "stdout",
     "output_type": "stream",
     "text": [
      "\n",
      "1 \n",
      "2 2 \n",
      "3 3 3 \n",
      "4 4 4 4 \n",
      "5 5 5 5 5 \n"
     ]
    }
   ],
   "source": [
    "\"\"\"15)Print the following pattern\n",
    "1 \n",
    "2 2 \n",
    "3 3 3 \n",
    "4 4 4 4 \n",
    "5 5 5 5 5\"\"\"\n",
    "rows =6\n",
    "for i in range(rows):\n",
    "    for j in range(i):\n",
    "         print(i,end=' ')\n",
    "    print('')"
   ]
  },
  {
   "cell_type": "code",
   "execution_count": 29,
   "id": "8d58725a",
   "metadata": {},
   "outputs": [
    {
     "name": "stdout",
     "output_type": "stream",
     "text": [
      "Enter number:121\n",
      "The number is palindrome!\n"
     ]
    }
   ],
   "source": [
    "#16)Write a program to check if the given number is a palindrome number.\n",
    "n=int(input(\"Enter number:\"))\n",
    "temp=n\n",
    "rev=0\n",
    "while(n>0):\n",
    "    dig=n%10\n",
    "    rev=rev*10+dig\n",
    "    n=n//10\n",
    "if(temp==rev):\n",
    "    print(\"The number is palindrome!\")\n",
    "else:\n",
    "    print(\"The number not a palindrome!\")"
   ]
  },
  {
   "cell_type": "code",
   "execution_count": 32,
   "id": "6712840f",
   "metadata": {},
   "outputs": [
    {
     "name": "stdout",
     "output_type": "stream",
     "text": [
      "[24, 35, 9, 56, 12]\n"
     ]
    }
   ],
   "source": [
    "#17)Python program to interchange first and last elements in a list\n",
    "def swapList(newList):\n",
    "    size = len(newList)\n",
    "    temp = newList[0]\n",
    "    newList[0] = newList[size - 1]\n",
    "    newList[size - 1] = temp\n",
    "    return newList\n",
    "newList = [12, 35, 9, 56, 24]\n",
    "print(swapList(newList))"
   ]
  },
  {
   "cell_type": "code",
   "execution_count": 34,
   "id": "180622a7",
   "metadata": {},
   "outputs": [
    {
     "name": "stdout",
     "output_type": "stream",
     "text": [
      "enter first position:2\n",
      "enter second position:3\n",
      "[23, 64, 13, 34, 45, 75]\n"
     ]
    }
   ],
   "source": [
    "#18)Python program to swap two elements in a list\n",
    "list1=[23,64,34,13,45,75]\n",
    "pos1=int(input(\"enter first position:\"))\n",
    "pos2=int(input(\"enter second position:\"))\n",
    "list1[pos1],list1[pos2]=list1[pos2],list1[pos1]\n",
    "print(list1)"
   ]
  },
  {
   "cell_type": "code",
   "execution_count": 36,
   "id": "7111355e",
   "metadata": {},
   "outputs": [
    {
     "name": "stdout",
     "output_type": "stream",
     "text": [
      "The length of list is: 5\n"
     ]
    }
   ],
   "source": [
    "#19)Python Ways to find length of list\n",
    "list = [10,20,30,40,50]\n",
    "n = len(list)\n",
    "print(\"The length of list is:\",n)\n"
   ]
  },
  {
   "cell_type": "code",
   "execution_count": 39,
   "id": "64b7e6f3",
   "metadata": {},
   "outputs": [
    {
     "name": "stdout",
     "output_type": "stream",
     "text": [
      "4\n"
     ]
    }
   ],
   "source": [
    "#20)Maximum of two numbers in Python\n",
    "def maximum(a, b):\n",
    "     if a >= b:\n",
    "        return a\n",
    "     else:\n",
    "        return b\n",
    "a = 2\n",
    "b = 4\n",
    "print(maximum(a, b))"
   ]
  },
  {
   "cell_type": "code",
   "execution_count": 40,
   "id": "f73c91b3",
   "metadata": {},
   "outputs": [
    {
     "name": "stdout",
     "output_type": "stream",
     "text": [
      "2\n"
     ]
    }
   ],
   "source": [
    "#21)Minimum of two numbers in python\n",
    "def maximum(a, b):\n",
    "     if a <= b:\n",
    "        return a\n",
    "     else:\n",
    "        return b\n",
    "a = 2\n",
    "b = 4\n",
    "print(maximum(a, b))"
   ]
  },
  {
   "cell_type": "code",
   "execution_count": 49,
   "id": "b439e238",
   "metadata": {},
   "outputs": [
    {
     "name": "stdout",
     "output_type": "stream",
     "text": [
      "Not symmetrical\n",
      "palindrome\n"
     ]
    }
   ],
   "source": [
    "#22)Python program to check whether the string is Symmetrical or Palindrome\n",
    "string=\"peep\"\n",
    "half=int(len(string)/2)\n",
    "fs=string[:half]\n",
    "ss=string[half:]\n",
    "if fs==ss:\n",
    "    print(\"symmetrical\")\n",
    "else:\n",
    "    print(\"Not symmetrical\")\n",
    "if(string==string[::-1]):\n",
    "       print(\"palindrome\")\n",
    "else:\n",
    "       print(\"not a palindrome\")"
   ]
  },
  {
   "cell_type": "code",
   "execution_count": 50,
   "id": "32d12735",
   "metadata": {},
   "outputs": [
    {
     "name": "stdout",
     "output_type": "stream",
     "text": [
      "code practice quiz geeks\n"
     ]
    }
   ],
   "source": [
    "#23)Reverse words in a given String in Python\n",
    "string = \"geeks quiz practice code\"\n",
    "s = string.split()[::-1]\n",
    "l = []\n",
    "for i in s:\n",
    "    l.append(i)\n",
    "print(\" \".join(l))\n"
   ]
  },
  {
   "cell_type": "code",
   "execution_count": 2,
   "id": "fae7c763",
   "metadata": {},
   "outputs": [
    {
     "name": "stdout",
     "output_type": "stream",
     "text": [
      "The string after removal of i'th character : GeksForGeeks\n"
     ]
    }
   ],
   "source": [
    "#24)Ways to remove i’th character from string in Python\n",
    "test_str = \"GeeksForGeeks\"\n",
    "new_str = \"\"\n",
    "for i in range(len(test_str)):\n",
    "    if i != 2:\n",
    "        new_str = new_str + test_str[i]\n",
    "print (\"The string after removal of i'th character : \" + new_str)"
   ]
  },
  {
   "cell_type": "code",
   "execution_count": 4,
   "id": "c56b4226",
   "metadata": {},
   "outputs": [
    {
     "name": "stdout",
     "output_type": "stream",
     "text": [
      "15\n"
     ]
    }
   ],
   "source": [
    "#25)Find length of a string in python \n",
    "str = \"geeks for geeks\"\n",
    "print(len(str))"
   ]
  },
  {
   "cell_type": "code",
   "execution_count": 7,
   "id": "71066154",
   "metadata": {},
   "outputs": [
    {
     "name": "stdout",
     "output_type": "stream",
     "text": [
      "This\n",
      "is\n",
      "python\n",
      "language\n"
     ]
    }
   ],
   "source": [
    "#26)Python program to print even length words in a string\n",
    "n=\"This is a python language\"\n",
    "s=n.split(\" \")\n",
    "for i in s:\n",
    "  if len(i)%2==0:\n",
    "    print(i)"
   ]
  },
  {
   "cell_type": "code",
   "execution_count": 9,
   "id": "b346f869",
   "metadata": {},
   "outputs": [
    {
     "name": "stdout",
     "output_type": "stream",
     "text": [
      "Size of the tuple is 3\n",
      "Size of the tuple is 2\n"
     ]
    }
   ],
   "source": [
    "#27)Python program to Find the size of a Tuple\n",
    "a = (\"programming\",\"python\", \"language\")\n",
    "b = (\"python\", \"Coding\") \n",
    "print(\"Size of the tuple is\", len(a))\n",
    "print(\"Size of the tuple is\", len(b))"
   ]
  },
  {
   "cell_type": "code",
   "execution_count": 30,
   "id": "1de84014",
   "metadata": {},
   "outputs": [
    {
     "name": "stdout",
     "output_type": "stream",
     "text": [
      "The tuple is : \n",
      "(7, 25, 36, 9, 6, 8)\n",
      "The value of K has been initialized to \n",
      "2\n",
      "The result is : \n",
      "(6, 7, 25, 36)\n"
     ]
    }
   ],
   "source": [
    "#28)Python – Maximum and Minimum K elements in Tuple\n",
    "my_tuple = (7, 25, 36, 9, 6, 8)\n",
    "print(\"The tuple is : \")\n",
    "print(my_tuple)\n",
    "K = 2\n",
    "print(\"The value of K has been initialized to \")\n",
    "print(K)\n",
    "my_result = []\n",
    "my_tuple = list(my_tuple)\n",
    "temp = sorted(my_tuple)\n",
    "for idx, val in enumerate(temp):\n",
    "   if idx < K or idx >= len(temp) - K:\n",
    "      my_result.append(val)\n",
    "my_result = tuple(my_result)\n",
    "print(\"The result is : \" )\n",
    "print(my_result)"
   ]
  },
  {
   "cell_type": "code",
   "execution_count": 31,
   "id": "a1ced73b",
   "metadata": {},
   "outputs": [
    {
     "name": "stdout",
     "output_type": "stream",
     "text": [
      "49\n"
     ]
    }
   ],
   "source": [
    "#29)Python – Sum of tuple elements\n",
    "def summation(test_tup):\n",
    "    test = list(test_tup)\n",
    "    count = 0\n",
    "    for i in test:\n",
    "        count += i\n",
    "    return count\n",
    "test_tup = (5, 20, 3, 7, 6, 8)\n",
    "print(summation(test_tup))"
   ]
  },
  {
   "cell_type": "code",
   "execution_count": 4,
   "id": "7a81337b",
   "metadata": {
    "scrolled": true
   },
   "outputs": [
    {
     "name": "stdout",
     "output_type": "stream",
     "text": [
      "Elements of Tuple matrix initially :[[(7, 2, 6), (4, 1, 5)], [(9, 2, 6), (4, 5, 3)]]\n",
      "Elements of Tuple matrix after addition :[[(7, 2, 6, 3), (4, 1, 5, 3)], [(9, 2, 6, 2), (4, 5, 3, 2)]]\n"
     ]
    }
   ],
   "source": [
    "#30)Python – Row-wise element Addition in Tuple Matrix\n",
    "tupMat = [[(7, 2, 6), (4, 1, 5)], [(9, 2, 6), (4, 5, 3)]]\n",
    "additionVals = [3, 2]\n",
    "print(\"Elements of Tuple matrix initially :\" + str(tupMat))\n",
    "addTupMat = [[sub + (additionVals[i], ) for sub in ele] for i, ele in enumerate(tupMat)]\n",
    "print(\"Elements of Tuple matrix after addition :\" + str(addTupMat))"
   ]
  },
  {
   "cell_type": "code",
   "execution_count": 1,
   "id": "4ed4a72f",
   "metadata": {},
   "outputs": [
    {
     "name": "stdout",
     "output_type": "stream",
     "text": [
      "[(1, 1), (2, 8), (5, 125), (6, 216)]\n"
     ]
    }
   ],
   "source": [
    "#31)Create a list of tuples from given list having number and its cube in each tuple\n",
    "list1 = [1, 2, 5, 6]\n",
    "res = [(val, pow(val, 3)) for val in list1]\n",
    "print(res)"
   ]
  },
  {
   "cell_type": "code",
   "execution_count": 5,
   "id": "00ec638a",
   "metadata": {},
   "outputs": [
    {
     "name": "stdout",
     "output_type": "stream",
     "text": [
      "{'anand': 32, 'apar': 12, 'pavi': 10, 'suba': 15, 'vidh': 10}\n"
     ]
    }
   ],
   "source": [
    "#32)Sort Python Dictionaries by Key or Value\n",
    "myDict = {'vidh':10 ,'pavi':10 ,'suba':15 ,'apar':12 ,'anand':32}\n",
    "myKeys = list(myDict.keys())\n",
    "myKeys.sort()\n",
    "sorted_dict = {i: myDict[i] for i in myKeys}\n",
    "print(sorted_dict)"
   ]
  },
  {
   "cell_type": "code",
   "execution_count": 1,
   "id": "239cf8d3",
   "metadata": {},
   "outputs": [
    {
     "name": "stdout",
     "output_type": "stream",
     "text": [
      "{(\"19.07'53.2\", \"72.54'51.0\"): 'Mumbai', (\"28.33'34.1\", \"77.06'16.6\"): 'Delhi'}\n",
      "\n",
      "\n",
      "[\"19.07'53.2\", \"28.33'34.1\"]\n",
      "[\"72.54'51.0\", \"77.06'16.6\"]\n",
      "['Mumbai', 'Delhi']\n"
     ]
    }
   ],
   "source": [
    "#33.Python dictionary with keys having multiple inputs\n",
    "places = {(\"19.07'53.2\", \"72.54'51.0\"):\"Mumbai\", \\\n",
    " (\"28.33'34.1\", \"77.06'16.6\"):\"Delhi\"}\n",
    "print(places)\n",
    "print('\\n')\n",
    "lat = []\n",
    "long = []\n",
    "plc = []\n",
    "for i in places:\n",
    " lat.append(i[0])\n",
    " long.append(i[1])\n",
    " plc.append(places[i[0], i[1]])\n",
    "print(lat)\n",
    "print(long)\n",
    "print(plc)"
   ]
  },
  {
   "cell_type": "code",
   "execution_count": 2,
   "id": "52b7bd51",
   "metadata": {},
   "outputs": [
    {
     "name": "stdout",
     "output_type": "stream",
     "text": [
      "Sum : 600\n"
     ]
    }
   ],
   "source": [
    "#34.Python program to find the sum of all items in a dictionary\n",
    "dict = {'a': 100, 'b': 200, 'c': 300}\n",
    "list=[]\n",
    "for i in dict:\n",
    " list.append(dict[i])\n",
    "final=sum(list)\n",
    "print(\"Sum :\",final)"
   ]
  },
  {
   "cell_type": "code",
   "execution_count": 3,
   "id": "81803a36",
   "metadata": {},
   "outputs": [
    {
     "name": "stdout",
     "output_type": "stream",
     "text": [
      "Dictionary: {'Name': 'Steve', 'Age': 30, 'Designation': 'Programmer'}\n",
      "Length of dictionary: 3\n"
     ]
    }
   ],
   "source": [
    "#35.Python program to find the length of a dictionary\n",
    "dict1 ={'Name':'Steve', 'Age':30, 'Designation':'Programmer'}\n",
    "print(\"Dictionary:\", dict1)\n",
    "print(\"Length of dictionary:\", len(dict1))\n"
   ]
  },
  {
   "cell_type": "code",
   "execution_count": 4,
   "id": "9b3818a4",
   "metadata": {},
   "outputs": [
    {
     "name": "stdout",
     "output_type": "stream",
     "text": [
      "Length= 3\n"
     ]
    }
   ],
   "source": [
    "#36.Find the length of a set in python\n",
    "set1=set()\n",
    "set1.add(8)\n",
    "set1.add(9)\n",
    "set1.add((6,7))\n",
    "print(\"Length=\",len(set1))"
   ]
  },
  {
   "cell_type": "code",
   "execution_count": 5,
   "id": "41a43b46",
   "metadata": {},
   "outputs": [
    {
     "name": "stdout",
     "output_type": "stream",
     "text": [
      "E\n",
      "s\n",
      "g\n",
      "e\n",
      "k\n"
     ]
    }
   ],
   "source": [
    "#37.Iterate over a set in python\n",
    "test_set = set(\"geEks\")\n",
    "for val in test_set:\n",
    " print(val)"
   ]
  },
  {
   "cell_type": "code",
   "execution_count": 6,
   "id": "8b96e8fb",
   "metadata": {},
   "outputs": [
    {
     "name": "stdout",
     "output_type": "stream",
     "text": [
      "65\n",
      "1\n"
     ]
    }
   ],
   "source": [
    "#38.Maximum and Minimum in a Set\n",
    "sets=set([8,16,24,1,25,3,10,65,55])\n",
    "print(max(sets))\n",
    "print(min(sets))"
   ]
  },
  {
   "cell_type": "code",
   "execution_count": 8,
   "id": "ce27bc3a",
   "metadata": {},
   "outputs": [
    {
     "name": "stdout",
     "output_type": "stream",
     "text": [
      "{9, 10, 12, 13, 15}\n",
      "{10, 12, 13, 15}\n",
      "{12, 13, 15}\n",
      "{13, 15}\n",
      "{15}\n",
      "set()\n"
     ]
    }
   ],
   "source": [
    "#39.Remove items from set\n",
    "def Remove(initial_set):\n",
    " while initial_set:\n",
    "     initial_set.pop()\n",
    "     print(initial_set)\n",
    "initial_set = set([12, 10, 13, 15, 8, 9])\n",
    "Remove(initial_set)\n"
   ]
  },
  {
   "cell_type": "code",
   "execution_count": 10,
   "id": "097aaabc",
   "metadata": {},
   "outputs": [
    {
     "name": "stdout",
     "output_type": "stream",
     "text": [
      "True\n",
      "False\n"
     ]
    }
   ],
   "source": [
    "#40.Check if two lists have atleast one element common\n",
    "def common_member(a, b):\n",
    " a_set = set(a)\n",
    " b_set = set(b)\n",
    " if (a_set & b_set):\n",
    "    return True\n",
    " else:\n",
    "    return False\n",
    "a = [1, 2, 3, 4, 5]\n",
    "b = [5, 6, 7, 8, 9]\n",
    "print(common_member(a, b))\n",
    "a =[1, 2, 3, 4, 5]\n",
    "b =[6, 7, 8, 9]\n",
    "print(common_member(a, b))"
   ]
  },
  {
   "cell_type": "code",
   "execution_count": 11,
   "id": "27629ea0",
   "metadata": {},
   "outputs": [
    {
     "name": "stdout",
     "output_type": "stream",
     "text": [
      "The original list : [[5, 8, 9], [2, 0, 9], [5, 4, 2], [2, 3, 9]]\n",
      "The Assigned Matrix : {5: [2, 0, 9], 8: [5, 4, 2], 9: [2, 3, 9]}\n"
     ]
    }
   ],
   "source": [
    "#41.Python – Assigning Subsequent Rows to Matrix first row elements\n",
    "test_list = [[5, 8, 9], [2, 0, 9], [5, 4, 2], [2, 3, 9]]\n",
    "print(\"The original list : \" + str(test_list))\n",
    "a=test_list[0]\n",
    "b=test_list[1:len(test_list)]\n",
    "d=dict()\n",
    "for i in range(0,len(a)):\n",
    " d[a[i]]=b[i]\n",
    "print(\"The Assigned Matrix : \" + str(d))"
   ]
  },
  {
   "cell_type": "code",
   "execution_count": 1,
   "id": "4265fc2d",
   "metadata": {},
   "outputs": [
    {
     "name": "stdout",
     "output_type": "stream",
     "text": [
      "Printing elements of first matrix\n",
      "[[1 2]\n",
      " [3 4]]\n",
      "Printing elements of second matrix\n",
      "[[4 5]\n",
      " [6 7]]\n",
      "Addition of two matrix\n",
      "[[ 5  7]\n",
      " [ 9 11]]\n"
     ]
    }
   ],
   "source": [
    "#42.Adding Matrices in Python\n",
    "import numpy as np\n",
    "A = np.array([[1, 2], [3, 4]])\n",
    "B = np.array([[4, 5], [6, 7]])\n",
    "print(\"Printing elements of first matrix\")\n",
    "print(A)\n",
    "print(\"Printing elements of second matrix\")\n",
    "print(B)\n",
    "print(\"Addition of two matrix\")\n",
    "print(np.add(A, B))"
   ]
  },
  {
   "cell_type": "code",
   "execution_count": 2,
   "id": "7fc73ae3",
   "metadata": {},
   "outputs": [
    {
     "name": "stdout",
     "output_type": "stream",
     "text": [
      "Printing elements of first matrix\n",
      "[[1 2]\n",
      " [3 4]]\n",
      "Printing elements of second matrix\n",
      "[[4 5]\n",
      " [6 7]]\n",
      "Subtraction of two matrix\n",
      "[[-3 -3]\n",
      " [-3 -3]]\n"
     ]
    }
   ],
   "source": [
    "#43.Subtracting Matrices in Python\n",
    "import numpy as np\n",
    "A = np.array([[1, 2], [3, 4]])\n",
    "B = np.array([[4, 5], [6, 7]])\n",
    "print(\"Printing elements of first matrix\")\n",
    "print(A)\n",
    "print(\"Printing elements of second matrix\")\n",
    "print(B)\n",
    "print(\"Subtraction of two matrix\")\n",
    "print(np.subtract(A, B))"
   ]
  },
  {
   "cell_type": "code",
   "execution_count": 3,
   "id": "36028c20",
   "metadata": {},
   "outputs": [
    {
     "name": "stdout",
     "output_type": "stream",
     "text": [
      "The original list : [1, 3, 5, 1, 3, 2, 5, 4, 2]\n",
      "Matrix after grouping : [[1, 1], [2, 2], [3, 3], [4], [5, 5]]\n"
     ]
    }
   ],
   "source": [
    "#44.Group similar elements into Matrix\n",
    "from itertools import groupby\n",
    "test_list = [1, 3, 5, 1, 3, 2, 5, 4, 2]\n",
    "print(\"The original list : \" + str(test_list))\n",
    "res = [list(val) for key, val in groupby(sorted(test_list))]\n",
    "print(\"Matrix after grouping : \" + str(res))\n"
   ]
  },
  {
   "cell_type": "code",
   "execution_count": 5,
   "id": "3b90dfdc",
   "metadata": {},
   "outputs": [
    {
     "name": "stdout",
     "output_type": "stream",
     "text": [
      "1 2 3 4 \n",
      "8 7 6 5 \n",
      "9 10 11 12 \n",
      "16 15 14 13 \n"
     ]
    }
   ],
   "source": [
    "#45.Create an n x n square matrix, where all the sub-matrix has the sum of opposite corner elements as even\n",
    "import itertools\n",
    "def sub_mat_even(n):\n",
    "    temp = itertools.count(1)\n",
    "    l = [[next(temp)for i in range(n)]for i in range(n)]\n",
    "    if n%2 == 0:\n",
    "        for i in range(0,len(l)):\n",
    "            if i%2 == 1:\n",
    "                l[i][:] = l[i][::-1]\n",
    "    for i in range(n):\n",
    "        for j in range(n):                  \n",
    "            print(l[i][j],end=\" \")\n",
    "        print()\n",
    "n = 4\n",
    "sub_mat_even(n)\n"
   ]
  },
  {
   "cell_type": "code",
   "execution_count": 6,
   "id": "23b00f6e",
   "metadata": {},
   "outputs": [
    {
     "name": "stdout",
     "output_type": "stream",
     "text": [
      "(iterable=None, /, **kwds)\n"
     ]
    }
   ],
   "source": [
    "#46.How to get list of parameters name from a function in Python\n",
    "import inspect\n",
    "import collections\n",
    "print(inspect.signature(collections.Counter))\n"
   ]
  },
  {
   "cell_type": "code",
   "execution_count": 7,
   "id": "aa3772ce",
   "metadata": {},
   "outputs": [
    {
     "name": "stdout",
     "output_type": "stream",
     "text": [
      "Hello from  geeks for geeks, 25\n"
     ]
    }
   ],
   "source": [
    "#47.How to Print Multiple Arguments in Python\n",
    "def GFG(name, num):\n",
    " print(\"Hello from \", name + ', ' + num)\n",
    "GFG(\"geeks for geeks\", \"25\")\n"
   ]
  },
  {
   "cell_type": "code",
   "execution_count": 8,
   "id": "cf7674ab",
   "metadata": {},
   "outputs": [
    {
     "name": "stdout",
     "output_type": "stream",
     "text": [
      "25\n"
     ]
    }
   ],
   "source": [
    "#48.Python program to find the power of a number using recursion\n",
    "def power(N, P):\n",
    "    if P == 0:\n",
    "        return 1\n",
    "    return (N*power(N, P-1))\n",
    "if __name__ == '__main__':\n",
    "    N = 5\n",
    "    P = 2\n",
    "    print(power(N, P))"
   ]
  },
  {
   "cell_type": "code",
   "execution_count": 9,
   "id": "cd5c1537",
   "metadata": {},
   "outputs": [
    {
     "name": "stdout",
     "output_type": "stream",
     "text": [
      "[('geeks', 1), ('for', 2), ('computer', 3), ('science', 3), ('geeks', 4)]\n"
     ]
    }
   ],
   "source": [
    "#49.Sorting objects of user defined class in Python\n",
    "class GFG:\n",
    "    def __init__(self, a, b):\n",
    "        self.a = a \n",
    "        self.b = b\n",
    "    def __repr__(self):\n",
    "        return str((self.a, self.b))\n",
    "gfg = [GFG(\"geeks\", 1),\n",
    "    GFG(\"computer\", 3),\n",
    "    GFG(\"for\", 2),\n",
    "    GFG(\"geeks\", 4),\n",
    "    GFG(\"science\", 3)]\n",
    "print(sorted(gfg, key=lambda x: x.b))"
   ]
  },
  {
   "cell_type": "code",
   "execution_count": 10,
   "id": "96867a04",
   "metadata": {},
   "outputs": [
    {
     "name": "stdout",
     "output_type": "stream",
     "text": [
      "{'Argument_1': 'gfg', 'Argument_2': 'GFG'}\n"
     ]
    }
   ],
   "source": [
    "#50.Functions that accept variable length key value pair as arguments\n",
    "def printKwargs(**kwargs):\n",
    "    print(kwargs)\n",
    "if __name__ == \"__main__\":\n",
    "     printKwargs(Argument_1='gfg', Argument_2='GFG')"
   ]
  },
  {
   "cell_type": "code",
   "execution_count": null,
   "id": "41a2792f",
   "metadata": {},
   "outputs": [],
   "source": []
  }
 ],
 "metadata": {
  "kernelspec": {
   "display_name": "Python 3 (ipykernel)",
   "language": "python",
   "name": "python3"
  },
  "language_info": {
   "codemirror_mode": {
    "name": "ipython",
    "version": 3
   },
   "file_extension": ".py",
   "mimetype": "text/x-python",
   "name": "python",
   "nbconvert_exporter": "python",
   "pygments_lexer": "ipython3",
   "version": "3.10.9"
  }
 },
 "nbformat": 4,
 "nbformat_minor": 5
}
